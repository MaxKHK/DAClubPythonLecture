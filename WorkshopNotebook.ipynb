{
 "cells": [
  {
   "cell_type": "markdown",
   "metadata": {},
   "source": [
    "# Very first step\n",
    "\n",
    "Let's start with very simple code - just printing the 'Hello world' text."
   ]
  },
  {
   "cell_type": "code",
   "execution_count": null,
   "metadata": {
    "collapsed": false
   },
   "outputs": [],
   "source": [
    "print 'Hello World!'"
   ]
  },
  {
   "cell_type": "markdown",
   "metadata": {
    "collapsed": true
   },
   "source": [
    "# Variables!\n",
    "Now let's see basic operations with the variables - how to put value inside, sum variables and work with variable types"
   ]
  },
  {
   "cell_type": "code",
   "execution_count": null,
   "metadata": {
    "collapsed": false
   },
   "outputs": [],
   "source": [
    "X = 5\n",
    "Y = 10.5\n",
    "A = X + Y;\n",
    "\n",
    "TextString = 'Sum of numbers is '"
   ]
  },
  {
   "cell_type": "markdown",
   "metadata": {},
   "source": [
    "# Careful with variable types\n",
    "\n",
    "There should be an explicit conversion of variables to same type when you perform operations.\n",
    "See examples below"
   ]
  },
  {
   "cell_type": "code",
   "execution_count": null,
   "metadata": {
    "collapsed": true
   },
   "outputs": [],
   "source": [
    "print TextString + A"
   ]
  },
  {
   "cell_type": "code",
   "execution_count": null,
   "metadata": {
    "collapsed": false
   },
   "outputs": [],
   "source": [
    "AasString = str(A)\n",
    "print TextString + AasString\n",
    "print TextString + str(A)"
   ]
  },
  {
   "cell_type": "markdown",
   "metadata": {},
   "source": [
    "# Arrays\n",
    "Variables which store bunch of other variables\n",
    "Specific elements are accessed by indexes, starting from 0\n",
    "Array slicing (getting subarrays) is performed in same way"
   ]
  },
  {
   "cell_type": "code",
   "execution_count": null,
   "metadata": {
    "collapsed": false
   },
   "outputs": [],
   "source": [
    "X = [1, 2, 3]\n",
    "print X[0]\n",
    "print X[2]\n",
    "Y = ['A', 'B', 'C']\n",
    "Z = Y[0:2]\n",
    "print Z"
   ]
  },
  {
   "cell_type": "markdown",
   "metadata": {},
   "source": [
    "# More on variable types and operators\n",
    "Type of variables you have at hand affect the outcome of operations"
   ]
  },
  {
   "cell_type": "code",
   "execution_count": null,
   "metadata": {
    "collapsed": false
   },
   "outputs": [],
   "source": [
    "X = 3\n",
    "Y = 1\n",
    "print X + Y\n",
    "print str(X) + str(Y)\n",
    "print X == Y"
   ]
  },
  {
   "cell_type": "markdown",
   "metadata": {},
   "source": [
    "# Functions\n",
    "Small subprograms which perform specific task\n",
    "Function which sums 2 numbers"
   ]
  },
  {
   "cell_type": "code",
   "execution_count": null,
   "metadata": {
    "collapsed": true
   },
   "outputs": [],
   "source": [
    "def stringSumResult(a, b):\n",
    "    c = a + b\n",
    "    result = 'Sum of ' + str(a) + ' and ' + str(b) + ' is ' + str(c)\n",
    "    return result"
   ]
  },
  {
   "cell_type": "code",
   "execution_count": null,
   "metadata": {
    "collapsed": false
   },
   "outputs": [],
   "source": [
    "print stringSumResult(3,4)"
   ]
  },
  {
   "cell_type": "markdown",
   "metadata": {},
   "source": [
    "# Libraries\n",
    "Python comes with libraries which can do a lot of different things. Before using them you need to import them.\n",
    "Below we import library which allows to work with dates and times.\n",
    "You can either import whole library or specific tools from library. For example library datetime has a tool called 'date'"
   ]
  },
  {
   "cell_type": "code",
   "execution_count": null,
   "metadata": {
    "collapsed": true
   },
   "outputs": [],
   "source": [
    "import datetime\n",
    "from datetime import date"
   ]
  },
  {
   "cell_type": "markdown",
   "metadata": {},
   "source": [
    "# Calculating age and printing it\n",
    "Another function example below\n",
    "Notice that datetime module which we imported has a submodule datetime which in turn has a tool strptime, allowing to convert from string to date"
   ]
  },
  {
   "cell_type": "code",
   "execution_count": null,
   "metadata": {
    "collapsed": true
   },
   "outputs": [],
   "source": [
    "def getAge(myBirthday):\n",
    "    today = date.today()\n",
    "    birthday = datetime.datetime.strptime(myBirthday, '%Y-%m-%d')\n",
    "    return today.year - birthday.year"
   ]
  },
  {
   "cell_type": "code",
   "execution_count": null,
   "metadata": {
    "collapsed": false
   },
   "outputs": [],
   "source": [
    "print getAge('1991-08-20')\n",
    "print getAge('1991-08-20') + 10\n",
    "print str(getAge('1991-08-20')) + '10'"
   ]
  },
  {
   "cell_type": "markdown",
   "metadata": {},
   "source": [
    "# range() function\n",
    "It returns an array of numbers between specific boundaries. range(0,3) returns an array [0,1,2]. Range could have a specific step."
   ]
  },
  {
   "cell_type": "markdown",
   "metadata": {},
   "source": [
    "# Loop 'for'\n",
    "Loop is a repetition of all or part of the commands in a program.\n",
    "Below are couple of examples of For loop in python"
   ]
  },
  {
   "cell_type": "code",
   "execution_count": null,
   "metadata": {
    "collapsed": false
   },
   "outputs": [],
   "source": [
    "for x in range(0,10,2):\n",
    "    print x"
   ]
  },
  {
   "cell_type": "code",
   "execution_count": null,
   "metadata": {
    "collapsed": false
   },
   "outputs": [],
   "source": [
    "for letter in 'My Test':\n",
    "    print letter"
   ]
  },
  {
   "cell_type": "markdown",
   "metadata": {},
   "source": [
    "# Loop 'while'\n",
    "Loop which repeats untill certain condition is met\n",
    "Below is the loop prints every letter of string untill letter 'i' is met"
   ]
  },
  {
   "cell_type": "code",
   "execution_count": null,
   "metadata": {
    "collapsed": false
   },
   "outputs": [],
   "source": [
    "a = 'myString'\n",
    "i = 0\n",
    "while a[i] != 'i':\n",
    "    print a[i]\n",
    "    i+=1"
   ]
  },
  {
   "cell_type": "markdown",
   "metadata": {},
   "source": [
    "# If - then - else\n",
    "A program often needs to decide whether something is true or false in order to see which way to continue.\n",
    "Below if - then - else switch is represented, which used in fuction to calculate square root of product of two numbers"
   ]
  },
  {
   "cell_type": "code",
   "execution_count": null,
   "metadata": {
    "collapsed": true
   },
   "outputs": [],
   "source": [
    "def printSqrt(a, b):\n",
    "    prod = a*b\n",
    "    if prod > 0:\n",
    "        print 'Square root is ' + str(pow(prod, 0.5))\n",
    "    else:\n",
    "        print \"Product is negative, can't proceed\""
   ]
  },
  {
   "cell_type": "code",
   "execution_count": null,
   "metadata": {
    "collapsed": false
   },
   "outputs": [],
   "source": [
    "printSqrt(-1,-4)\n",
    "printSqrt(-1,4)"
   ]
  },
  {
   "cell_type": "markdown",
   "metadata": {},
   "source": [
    "# Practice time!\n",
    "Let's try to build some algorithms and respect the Big-O notation"
   ]
  },
  {
   "cell_type": "markdown",
   "metadata": {},
   "source": [
    "# FrogJump\n",
    "Task: Frog needs to cross the road. Each jump is 2 meters in length. Given the road length, calculate how many jumps frog will have to make\n",
    "\n",
    "Below is broot-force approach"
   ]
  },
  {
   "cell_type": "code",
   "execution_count": null,
   "metadata": {
    "collapsed": true
   },
   "outputs": [],
   "source": [
    "def frogJumps(length):\n",
    "    x = 0\n",
    "    jumps = 0\n",
    "    while x < length:\n",
    "        jumps += 1\n",
    "        x += 2\n",
    "    return jumps"
   ]
  },
  {
   "cell_type": "code",
   "execution_count": null,
   "metadata": {
    "collapsed": false
   },
   "outputs": [],
   "source": [
    "print frogJumps(10)\n",
    "print frogJumps(11)\n",
    "print frogJumps(1)"
   ]
  },
  {
   "cell_type": "markdown",
   "metadata": {},
   "source": [
    "And now - constant time approach. Notice, % operator gives us the division remainder"
   ]
  },
  {
   "cell_type": "code",
   "execution_count": null,
   "metadata": {
    "collapsed": false
   },
   "outputs": [],
   "source": [
    "def frogJumps(length):\n",
    "    if length % 2 == 0:\n",
    "        return length/2\n",
    "    else:\n",
    "        return (length/2) + 1"
   ]
  },
  {
   "cell_type": "code",
   "execution_count": null,
   "metadata": {
    "collapsed": false
   },
   "outputs": [],
   "source": [
    "print frogJumps(10)\n",
    "print frogJumps(11)\n",
    "print frogJumps(1)"
   ]
  },
  {
   "cell_type": "markdown",
   "metadata": {},
   "source": [
    "# Tape equilibrium\n",
    "Solution for tape equilibrium"
   ]
  },
  {
   "cell_type": "code",
   "execution_count": null,
   "metadata": {
    "collapsed": true
   },
   "outputs": [],
   "source": [
    "#we have an array and we want to split it into two parts\n",
    "#such that the difference between sum of elements in each of\n",
    "#2 parts is minimal. We must compute the minimal possible difference\n",
    "\n",
    "\n",
    "#simple - start with first element in left part and all rest\n",
    "#elements in right part. Compute the sum of right part. Then sequentially\n",
    "#go throw all array and add each element to sum of all elements in left part\n",
    "#and subtract it from sum in right part. And just record the minimal difference\n",
    "#we encountered so far.\n",
    "\n",
    "def solution(A):\n",
    "    #initially in left part we have only first element\n",
    "    sumLeft = A[0]\n",
    "    #initially in right part part we have all other elements\n",
    "    sumRight = sum(A[1:])\n",
    "    \n",
    "    #counter for minimal difference between left and right parts\n",
    "    #we encountered so far.\n",
    "    minDiff = abs(sumLeft - sumRight)\n",
    "    bestIndex = 1\n",
    "    #go through whole array (starting with second element)\n",
    "    for i in range(1,len(A)-1):\n",
    "        #add the current element to left sum and subtract from right sum\n",
    "        sumLeft += A[i]\n",
    "        sumRight -= A[i]\n",
    "        #check if now we have a difference smaller than we saw before\n",
    "        if abs(sumLeft - sumRight) < minDiff:\n",
    "            minDiff = abs(sumLeft - sumRight)\n",
    "            bestIndex = i+1\n",
    "    return bestIndex"
   ]
  },
  {
   "cell_type": "code",
   "execution_count": null,
   "metadata": {
    "collapsed": false
   },
   "outputs": [],
   "source": [
    "test = [3, 1, 2, 4, 3] \n",
    "print solution(test)"
   ]
  }
 ],
 "metadata": {
  "anaconda-cloud": {},
  "kernelspec": {
   "display_name": "Python [default]",
   "language": "python",
   "name": "python2"
  },
  "language_info": {
   "codemirror_mode": {
    "name": "ipython",
    "version": 2
   },
   "file_extension": ".py",
   "mimetype": "text/x-python",
   "name": "python",
   "nbconvert_exporter": "python",
   "pygments_lexer": "ipython2",
   "version": "2.7.12"
  }
 },
 "nbformat": 4,
 "nbformat_minor": 1
}
